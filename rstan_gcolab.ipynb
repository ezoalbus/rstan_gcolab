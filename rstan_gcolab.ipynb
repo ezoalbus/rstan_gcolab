{
  "cells": [
    {
      "cell_type": "markdown",
      "metadata": {
        "id": "view-in-github",
        "colab_type": "text"
      },
      "source": [
        "<a href=\"https://colab.research.google.com/github/ezoalbus/rstan_gcolab/blob/main/rstan_gcolab.ipynb\" target=\"_parent\"><img src=\"https://colab.research.google.com/assets/colab-badge.svg\" alt=\"Open In Colab\"/></a>"
      ]
    },
    {
      "cell_type": "markdown",
      "source": [
        "## 準備（定型的作業）"
      ],
      "metadata": {
        "id": "y6aHSloSvNle"
      }
    },
    {
      "cell_type": "code",
      "execution_count": 1,
      "metadata": {
        "colab": {
          "base_uri": "https://localhost:8080/"
        },
        "id": "0mxWlckXBakg",
        "outputId": "660bc861-e1c4-441c-a7ac-55afd17d0b10"
      },
      "outputs": [
        {
          "output_type": "stream",
          "name": "stdout",
          "text": [
            "Drive already mounted at /content/gdrive; to attempt to forcibly remount, call drive.mount(\"/content/gdrive\", force_remount=True).\n"
          ]
        }
      ],
      "source": [
        "from google.colab import drive\n",
        "drive.mount(\"/content/gdrive\")"
      ]
    },
    {
      "cell_type": "code",
      "execution_count": null,
      "metadata": {
        "id": "68QjonGvunZM"
      },
      "outputs": [],
      "source": [
        "# VSCodeで作業したい場合のみ実行（https://qiita.com/ezoalbus/items/f75ffb910d9ee9202baf）\n",
        "!pip install colab_ssh --upgrade\n",
        "\n",
        "from colab_ssh import launch_ssh_cloudflared\n",
        "launch_ssh_cloudflared(password=\"hogehoge\")"
      ]
    },
    {
      "cell_type": "code",
      "execution_count": 3,
      "metadata": {
        "id": "8LNEE-9SS8HC"
      },
      "outputs": [],
      "source": [
        "# R magicの有効化\n",
        "%load_ext rpy2.ipython"
      ]
    },
    {
      "cell_type": "code",
      "execution_count": 4,
      "metadata": {
        "colab": {
          "base_uri": "https://localhost:8080/"
        },
        "id": "CzM5OiviTP7U",
        "outputId": "73cdbc70-6521-4f81-c6cb-afe3d11a75fc"
      },
      "outputs": [
        {
          "output_type": "stream",
          "name": "stdout",
          "text": [
            "[1] \"/content/gdrive/MyDrive/workspace/r_libs\"\n",
            "[2] \"/usr/local/lib/R/site-library\"           \n",
            "[3] \"/usr/lib/R/site-library\"                 \n",
            "[4] \"/usr/lib/R/library\"                      \n"
          ]
        }
      ],
      "source": [
        "%%R\n",
        "# Rのライブラリを管理するフォルダのパスを追加\n",
        ".libPaths(\"/content/gdrive/MyDrive/workspace/r_libs\")\n",
        "# 確認\n",
        ".libPaths()"
      ]
    },
    {
      "cell_type": "code",
      "execution_count": 5,
      "metadata": {
        "colab": {
          "base_uri": "https://localhost:8080/"
        },
        "id": "D4FScGTrXsET",
        "outputId": "1cf9827e-9de0-4895-f645-323cdc9e2f15"
      },
      "outputs": [
        {
          "output_type": "stream",
          "name": "stdout",
          "text": [
            "NULL\n"
          ]
        }
      ],
      "source": [
        "%%R\n",
        "# # 初回のみ実行\n",
        "# install.packages(\"rstan\")"
      ]
    },
    {
      "cell_type": "markdown",
      "source": [
        "## コーディング（可変部分）"
      ],
      "metadata": {
        "id": "h-Vs0o4BxHc-"
      }
    },
    {
      "cell_type": "code",
      "execution_count": 6,
      "metadata": {
        "colab": {
          "base_uri": "https://localhost:8080/"
        },
        "id": "p-JGLtCaXnuE",
        "outputId": "9dbd7e57-0705-476b-b72d-99edb6158b74"
      },
      "outputs": [
        {
          "output_type": "stream",
          "name": "stderr",
          "text": [
            "R[write to console]: Loading required package: StanHeaders\n",
            "\n",
            "R[write to console]: Loading required package: ggplot2\n",
            "\n",
            "R[write to console]: rstan (Version 2.21.5, GitRev: 2e1f913d3ca3)\n",
            "\n",
            "R[write to console]: For execution on a local, multicore CPU with excess RAM we recommend calling\n",
            "options(mc.cores = parallel::detectCores()).\n",
            "To avoid recompilation of unchanged Stan programs, we recommend calling\n",
            "rstan_options(auto_write = TRUE)\n",
            "\n"
          ]
        },
        {
          "output_type": "stream",
          "name": "stdout",
          "text": [
            "Inference for Stan model: schools.\n",
            "4 chains, each with iter=2000; warmup=1000; thin=1; \n",
            "post-warmup draws per chain=1000, total post-warmup draws=4000.\n",
            "\n",
            "           mean se_mean   sd    10%    50%    90% n_eff Rhat\n",
            "theta[1]  11.26    0.15 8.47   1.92  10.21  22.54  3275    1\n",
            "theta[2]   7.87    0.09 6.34   0.26   7.84  15.66  4620    1\n",
            "theta[3]   6.04    0.14 7.98  -3.64   6.55  15.00  3350    1\n",
            "theta[4]   7.62    0.09 6.42  -0.20   7.58  15.49  5261    1\n",
            "theta[5]   5.08    0.10 6.51  -3.42   5.58  12.86  4226    1\n",
            "theta[6]   6.25    0.10 6.83  -2.31   6.65  14.32  4709    1\n",
            "theta[7]  10.68    0.11 6.91   2.71   9.96  19.87  3706    1\n",
            "theta[8]   8.56    0.15 7.81  -0.32   8.23  18.08  2839    1\n",
            "mu         7.84    0.14 5.32   1.59   7.87  14.36  1461    1\n",
            "tau        6.67    0.18 5.85   0.97   5.22  13.85  1113    1\n",
            "lp__     -39.59    0.07 2.65 -43.16 -39.36 -36.36  1358    1\n",
            "\n",
            "Samples were drawn using NUTS(diag_e) at Sun May 15 00:30:14 2022.\n",
            "For each parameter, n_eff is a crude measure of effective sample size,\n",
            "and Rhat is the potential scale reduction factor on split chains (at \n",
            "convergence, Rhat=1).\n"
          ]
        }
      ],
      "source": [
        "%%R\n",
        "library(rstan) \n",
        "\n",
        "# 並列処理の指定\n",
        "options(mc.cores = parallel::detectCores())\n",
        "\n",
        "# === 以下、https://cran.r-project.org/web/packages/rstan/vignettes/rstan.html を参照 === #\n",
        "# データの準備\n",
        "schools_data <- list(\n",
        "  J = 8,\n",
        "  y = c(28,  8, -3,  7, -1,  1, 18, 12),\n",
        "  sigma = c(15, 10, 16, 11,  9, 11, 10, 18)\n",
        ")\n",
        "\n",
        "# サンプリング\n",
        "fit1 <- stan(\n",
        "  file = \"/content/gdrive/MyDrive/workspace/schools.stan\",  # Stan program\n",
        "  data = schools_data,    # named list of data\n",
        "  chains = 4,             # number of Markov chains\n",
        "  warmup = 1000,          # number of warmup iterations per chain\n",
        "  iter = 2000,            # total number of iterations per chain\n",
        "  cores = 1,              # number of cores (could use one per chain)\n",
        "  refresh = 0             # no progress shown\n",
        "  )\n",
        "\n",
        "print(fit1, pars=c(\"theta\", \"mu\", \"tau\", \"lp__\"), probs=c(.1,.5,.9))"
      ]
    }
  ],
  "metadata": {
    "accelerator": "GPU",
    "colab": {
      "machine_shape": "hm",
      "name": "rstan_gcolab.ipynb",
      "provenance": [],
      "include_colab_link": true
    },
    "kernelspec": {
      "display_name": "Python 3",
      "language": "python",
      "name": "python3"
    },
    "language_info": {
      "codemirror_mode": {
        "name": "ipython",
        "version": 3
      },
      "file_extension": ".py",
      "mimetype": "text/x-python",
      "name": "python",
      "nbconvert_exporter": "python",
      "pygments_lexer": "ipython3",
      "version": "3.7.13"
    },
    "orig_nbformat": 4
  },
  "nbformat": 4,
  "nbformat_minor": 0
}