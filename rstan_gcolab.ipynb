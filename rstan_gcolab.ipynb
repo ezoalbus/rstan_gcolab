{
  "cells": [
    {
      "cell_type": "markdown",
      "metadata": {
        "id": "view-in-github",
        "colab_type": "text"
      },
      "source": [
        "<a href=\"https://colab.research.google.com/github/ezoalbus/rstan_gcolab/blob/main/rstan_gcolab.ipynb\" target=\"_parent\"><img src=\"https://colab.research.google.com/assets/colab-badge.svg\" alt=\"Open In Colab\"/></a>"
      ]
    },
    {
      "cell_type": "markdown",
      "source": [
        "## 準備"
      ],
      "metadata": {
        "id": "y6aHSloSvNle"
      }
    },
    {
      "cell_type": "code",
      "execution_count": 1,
      "metadata": {
        "colab": {
          "base_uri": "https://localhost:8080/"
        },
        "id": "0mxWlckXBakg",
        "outputId": "52046435-b1a3-4bac-a7f8-a8b13481471f"
      },
      "outputs": [
        {
          "output_type": "stream",
          "name": "stdout",
          "text": [
            "Drive already mounted at /content/gdrive; to attempt to forcibly remount, call drive.mount(\"/content/gdrive\", force_remount=True).\n"
          ]
        }
      ],
      "source": [
        "from google.colab import drive\n",
        "drive.mount(\"/content/gdrive\")"
      ]
    },
    {
      "cell_type": "code",
      "execution_count": null,
      "metadata": {
        "id": "68QjonGvunZM"
      },
      "outputs": [],
      "source": [
        "# VSCodeで作業したい場合のみ実行（https://qiita.com/ezoalbus/items/f75ffb910d9ee9202baf）\n",
        "!pip install colab_ssh --upgrade\n",
        "\n",
        "from colab_ssh import launch_ssh_cloudflared\n",
        "launch_ssh_cloudflared(password=\"hogehoge\")"
      ]
    },
    {
      "cell_type": "code",
      "execution_count": 3,
      "metadata": {
        "id": "8LNEE-9SS8HC"
      },
      "outputs": [],
      "source": [
        "# R magicの有効化\n",
        "%load_ext rpy2.ipython"
      ]
    },
    {
      "cell_type": "markdown",
      "source": [
        "## Rでのコーディング"
      ],
      "metadata": {
        "id": "h-Vs0o4BxHc-"
      }
    },
    {
      "cell_type": "code",
      "execution_count": 1,
      "metadata": {
        "colab": {
          "base_uri": "https://localhost:8080/"
        },
        "id": "CzM5OiviTP7U",
        "outputId": "ab954c8d-708e-4231-cc69-a0e292f58eae"
      },
      "outputs": [
        {
          "output_type": "stream",
          "name": "stderr",
          "text": [
            "UsageError: Cell magic `%%R` not found.\n"
          ]
        }
      ],
      "source": [
        "%%R\n",
        "# Rのライブラリを管理するフォルダのパスを追加\n",
        ".libPaths(\"/content/gdrive/MyDrive/workspace/r_libs\")\n",
        "# 確認\n",
        ".libPaths()"
      ]
    },
    {
      "cell_type": "code",
      "execution_count": 5,
      "metadata": {
        "colab": {
          "base_uri": "https://localhost:8080/"
        },
        "id": "D4FScGTrXsET",
        "outputId": "e6537b4b-6523-4b38-c604-e472aeed4d59"
      },
      "outputs": [
        {
          "output_type": "stream",
          "name": "stdout",
          "text": [
            "NULL\n"
          ]
        }
      ],
      "source": [
        "%%R\n",
        "# # 初回のみ実行\n",
        "# install.packages(\"rstan\")"
      ]
    },
    {
      "cell_type": "code",
      "execution_count": 8,
      "metadata": {
        "colab": {
          "base_uri": "https://localhost:8080/"
        },
        "id": "p-JGLtCaXnuE",
        "outputId": "b8d2707d-f27e-43e6-8cb2-f9fce67916a2"
      },
      "outputs": [
        {
          "output_type": "stream",
          "name": "stdout",
          "text": [
            "Inference for Stan model: schools.\n",
            "4 chains, each with iter=2000; warmup=1000; thin=1; \n",
            "post-warmup draws per chain=1000, total post-warmup draws=4000.\n",
            "\n",
            "           mean se_mean   sd    10%    50%    90% n_eff Rhat\n",
            "theta[1]  11.48    0.18 8.37   2.33  10.39  22.33  2112 1.00\n",
            "theta[2]   7.94    0.09 6.31  -0.02   8.06  15.66  4554 1.00\n",
            "theta[3]   6.34    0.15 7.76  -3.05   6.73  15.18  2741 1.00\n",
            "theta[4]   7.71    0.11 6.41  -0.06   7.58  15.48  3198 1.00\n",
            "theta[5]   5.15    0.10 6.17  -3.07   5.61  12.64  3653 1.00\n",
            "theta[6]   6.24    0.11 6.68  -1.93   6.40  14.06  3474 1.00\n",
            "theta[7]  10.77    0.13 6.91   2.72  10.04  19.73  2729 1.00\n",
            "theta[8]   8.58    0.15 7.92  -0.54   8.32  17.91  2807 1.00\n",
            "mu         8.08    0.19 5.19   1.80   7.95  14.35   751 1.00\n",
            "tau        6.63    0.23 5.59   0.95   5.31  13.91   579 1.01\n",
            "lp__     -39.46    0.08 2.59 -42.85 -39.29 -36.29  1127 1.00\n",
            "\n",
            "Samples were drawn using NUTS(diag_e) at Sat May 14 22:49:21 2022.\n",
            "For each parameter, n_eff is a crude measure of effective sample size,\n",
            "and Rhat is the potential scale reduction factor on split chains (at \n",
            "convergence, Rhat=1).\n"
          ]
        }
      ],
      "source": [
        "%%R\n",
        "library(rstan) \n",
        "\n",
        "# 並列処理の指定\n",
        "options(mc.cores = parallel::detectCores())\n",
        "\n",
        "# === 以下、https://cran.r-project.org/web/packages/rstan/vignettes/rstan.html を参照 === #\n",
        "# データの準備\n",
        "schools_data <- list(\n",
        "  J = 8,\n",
        "  y = c(28,  8, -3,  7, -1,  1, 18, 12),\n",
        "  sigma = c(15, 10, 16, 11,  9, 11, 10, 18)\n",
        ")\n",
        "\n",
        "# サンプリング\n",
        "fit1 <- stan(\n",
        "  file = \"/content/gdrive/MyDrive/workspace/schools.stan\",  # Stan program\n",
        "  data = schools_data,    # named list of data\n",
        "  chains = 4,             # number of Markov chains\n",
        "  warmup = 1000,          # number of warmup iterations per chain\n",
        "  iter = 2000,            # total number of iterations per chain\n",
        "  cores = 1,              # number of cores (could use one per chain)\n",
        "  refresh = 0             # no progress shown\n",
        "  )\n",
        "\n",
        "print(fit1, pars=c(\"theta\", \"mu\", \"tau\", \"lp__\"), probs=c(.1,.5,.9))"
      ]
    }
  ],
  "metadata": {
    "accelerator": "GPU",
    "colab": {
      "machine_shape": "hm",
      "name": "rstan_gcolab.ipynb",
      "provenance": [],
      "include_colab_link": true
    },
    "kernelspec": {
      "display_name": "Python 3",
      "language": "python",
      "name": "python3"
    },
    "language_info": {
      "codemirror_mode": {
        "name": "ipython",
        "version": 3
      },
      "file_extension": ".py",
      "mimetype": "text/x-python",
      "name": "python",
      "nbconvert_exporter": "python",
      "pygments_lexer": "ipython3",
      "version": "3.7.13"
    },
    "orig_nbformat": 4
  },
  "nbformat": 4,
  "nbformat_minor": 0
}